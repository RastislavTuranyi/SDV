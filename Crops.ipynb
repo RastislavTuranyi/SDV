{
 "cells": [
  {
   "cell_type": "code",
   "execution_count": 2,
   "id": "rising-locator",
   "metadata": {},
   "outputs": [],
   "source": [
    "import xlwings as xw"
   ]
  },
  {
   "cell_type": "code",
   "execution_count": 15,
   "id": "sapphire-police",
   "metadata": {},
   "outputs": [
    {
     "name": "stdout",
     "output_type": "stream",
     "text": [
      "11 flower\n",
      "21 flower\n",
      "28 flower\n",
      "32 flower\n",
      "33 flower\n",
      "42 flower\n"
     ]
    }
   ],
   "source": [
    "sht = xw.Book('Crops.xlsx').sheets['Sheet1']\n",
    "\n",
    "for i in range(2, 49):\n",
    "    \n",
    "    if sht.range(f'J{i}').value == None:\n",
    "        \n",
    "        if sht.range(f'L{i}').value == 'vegetable':\n",
    "            sht.range(f'J{i}').value = round(2.25 * sht.range(f'F{i}').value)\n",
    "            \n",
    "        elif sht.range(f'L{i}').value == 'fruit':\n",
    "            sht.range(f'J{i}').value = 3 * sht.range(f'F{i}').value\n",
    "            \n",
    "        else:\n",
    "            print(i, sht.range(f'L{i}').value)"
   ]
  },
  {
   "cell_type": "code",
   "execution_count": 16,
   "id": "vulnerable-starter",
   "metadata": {},
   "outputs": [
    {
     "name": "stdout",
     "output_type": "stream",
     "text": [
      "11 flower\n",
      "21 flower\n",
      "28 flower\n",
      "32 flower\n",
      "33 flower\n",
      "42 flower\n"
     ]
    }
   ],
   "source": [
    "for i in range(2, 49):\n",
    "    \n",
    "    if sht.range(f'M{i}').value == None:\n",
    "        \n",
    "        if sht.range(f'L{i}').value == 'vegetable':\n",
    "            sht.range(f'M{i}').value = 6000\n",
    "            \n",
    "        elif sht.range(f'L{i}').value == 'fruit':\n",
    "            sht.range(f'M{i}').value = 10000\n",
    "            \n",
    "        else:\n",
    "            print(i, sht.range(f'L{i}').value)"
   ]
  },
  {
   "cell_type": "code",
   "execution_count": 17,
   "id": "elder-mediterranean",
   "metadata": {},
   "outputs": [
    {
     "ename": "SyntaxError",
     "evalue": "invalid syntax (<ipython-input-17-bb0bd284b31f>, line 1)",
     "output_type": "error",
     "traceback": [
      "\u001b[1;36m  File \u001b[1;32m\"<ipython-input-17-bb0bd284b31f>\"\u001b[1;36m, line \u001b[1;32m1\u001b[0m\n\u001b[1;33m    sht.range(f'H{i}').value = 0 if sht.range(f'H{i}').value == None else pass\u001b[0m\n\u001b[1;37m                                                                             ^\u001b[0m\n\u001b[1;31mSyntaxError\u001b[0m\u001b[1;31m:\u001b[0m invalid syntax\n"
     ]
    }
   ],
   "source": [
    "sht.range(f'H{i}').value = 0 if sht.range(f'H{i}').value == None else pass"
   ]
  }
 ],
 "metadata": {
  "kernelspec": {
   "display_name": "Python 3",
   "language": "python",
   "name": "python3"
  },
  "language_info": {
   "codemirror_mode": {
    "name": "ipython",
    "version": 3
   },
   "file_extension": ".py",
   "mimetype": "text/x-python",
   "name": "python",
   "nbconvert_exporter": "python",
   "pygments_lexer": "ipython3",
   "version": "3.7.9"
  }
 },
 "nbformat": 4,
 "nbformat_minor": 5
}
